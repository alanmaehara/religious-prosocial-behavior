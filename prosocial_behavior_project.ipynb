{
 "cells": [
  {
   "cell_type": "markdown",
   "metadata": {},
   "source": [
    "# 0.0. Import Libraries"
   ]
  },
  {
   "cell_type": "code",
   "execution_count": 18,
   "metadata": {},
   "outputs": [],
   "source": [
    "# install.packages(\"readxl\")\n",
    "# install.packages(\"exactRankTests\")\n",
    "library(readxl)\n",
    "library(exactRankTests)\n",
    "library(psych)"
   ]
  },
  {
   "cell_type": "markdown",
   "metadata": {},
   "source": [
    "# 1.0. Load Dataset"
   ]
  },
  {
   "cell_type": "markdown",
   "metadata": {},
   "source": [
    "We have the following datasets to work with:\n",
    "1. prosoc: proposer's info (participant's religion, age, gender, DUREL answer, ultimatum game results)\n",
    " - variables:\n",
    "     - idprop: proposer's id\n",
    "     - role: proposer or responder\n",
    "     - idresp: proposer's corresponding responder\n",
    "     - propoffer: proposal offer\n",
    "     - accepted: dummy (1 = accepted)\n",
    "     - female: dummy (1 = female)\n",
    "     - age\n",
    "     - buddhist: dummy (1 = buddhist)\n",
    "     - otherrelig: dummy (1 = follows other religion)\n",
    "     - freq = measuring ORA dimension\n",
    "     - private = measuring NORA dimension\n",
    "     - presence = measuring IR dimension\n",
    "     - beliefs = meansuring IR dimension\n",
    "     - carryon = measuring IR dimension\n",
    "2. crontesall: DUREL questionnaire data (dimensions only)\n",
    "    - variables:\n",
    "        - ora = freq\n",
    "        - nora = private\n",
    "        - IR1 = presence\n",
    "        - ir2 = beliefs\n",
    "        - ir3 = carryon"
   ]
  },
  {
   "cell_type": "code",
   "execution_count": 51,
   "metadata": {},
   "outputs": [
    {
     "data": {
      "text/html": [
       "<table>\n",
       "<thead><tr><th scope=col>idprop</th><th scope=col>role</th><th scope=col>idresp</th><th scope=col>propoffer</th><th scope=col>accepted</th><th scope=col>female</th><th scope=col>age</th><th scope=col>buddhist</th><th scope=col>otherrelig</th><th scope=col>freq</th><th scope=col>private</th><th scope=col>presence</th><th scope=col>beliefs</th><th scope=col>carryon</th><th scope=col>totscore</th></tr></thead>\n",
       "<tbody>\n",
       "\t<tr><td>11      </td><td>Proposer</td><td>60      </td><td> 2      </td><td>1       </td><td>1       </td><td>21      </td><td>1       </td><td>0       </td><td>5       </td><td>4       </td><td>4       </td><td>4       </td><td>1       </td><td>18      </td></tr>\n",
       "\t<tr><td>12      </td><td>Proposer</td><td>71      </td><td> 7      </td><td>1       </td><td>1       </td><td>23      </td><td>1       </td><td>0       </td><td>6       </td><td>6       </td><td>5       </td><td>5       </td><td>1       </td><td>23      </td></tr>\n",
       "\t<tr><td>13      </td><td>Proposer</td><td>82      </td><td>10      </td><td>1       </td><td>0       </td><td>20      </td><td>1       </td><td>0       </td><td>5       </td><td>5       </td><td>1       </td><td>4       </td><td>1       </td><td>16      </td></tr>\n",
       "\t<tr><td>14      </td><td>Proposer</td><td>93      </td><td> 8      </td><td>1       </td><td>1       </td><td>25      </td><td>1       </td><td>0       </td><td>5       </td><td>5       </td><td>4       </td><td>5       </td><td>1       </td><td>20      </td></tr>\n",
       "\t<tr><td>15      </td><td>Proposer</td><td>65      </td><td> 4      </td><td>1       </td><td>1       </td><td>24      </td><td>1       </td><td>0       </td><td>6       </td><td>6       </td><td>5       </td><td>5       </td><td>1       </td><td>23      </td></tr>\n",
       "\t<tr><td>16      </td><td>Proposer</td><td>76      </td><td> 0      </td><td>1       </td><td>0       </td><td>20      </td><td>1       </td><td>0       </td><td>3       </td><td>2       </td><td>1       </td><td>1       </td><td>1       </td><td> 8      </td></tr>\n",
       "\t<tr><td>21      </td><td>Proposer</td><td>70      </td><td> 5      </td><td>1       </td><td>1       </td><td>22      </td><td>1       </td><td>0       </td><td>3       </td><td>6       </td><td>4       </td><td>5       </td><td>5       </td><td>23      </td></tr>\n",
       "\t<tr><td>22      </td><td>Proposer</td><td>81      </td><td> 5      </td><td>1       </td><td>0       </td><td>19      </td><td>1       </td><td>0       </td><td>5       </td><td>3       </td><td>5       </td><td>2       </td><td>5       </td><td>20      </td></tr>\n",
       "\t<tr><td>23      </td><td>Proposer</td><td>92      </td><td> 5      </td><td>1       </td><td>1       </td><td>23      </td><td>1       </td><td>0       </td><td>3       </td><td>2       </td><td>3       </td><td>2       </td><td>5       </td><td>15      </td></tr>\n",
       "\t<tr><td>24      </td><td>Proposer</td><td>64      </td><td> 4      </td><td>1       </td><td>1       </td><td>25      </td><td>1       </td><td>0       </td><td>4       </td><td>4       </td><td>5       </td><td>5       </td><td>5       </td><td>23      </td></tr>\n",
       "\t<tr><td>25      </td><td>Proposer</td><td>75      </td><td> 4      </td><td>0       </td><td>1       </td><td>24      </td><td>1       </td><td>0       </td><td>3       </td><td>5       </td><td>1       </td><td>4       </td><td>5       </td><td>18      </td></tr>\n",
       "\t<tr><td>26      </td><td>Proposer</td><td>86      </td><td> 5      </td><td>1       </td><td>1       </td><td>28      </td><td>1       </td><td>0       </td><td>6       </td><td>6       </td><td>5       </td><td>5       </td><td>5       </td><td>27      </td></tr>\n",
       "\t<tr><td>31      </td><td>Proposer</td><td>80      </td><td> 3      </td><td>1       </td><td>1       </td><td>23      </td><td>1       </td><td>0       </td><td>5       </td><td>6       </td><td>4       </td><td>5       </td><td>5       </td><td>25      </td></tr>\n",
       "\t<tr><td>32      </td><td>Proposer</td><td>91      </td><td> 8      </td><td>1       </td><td>1       </td><td>19      </td><td>1       </td><td>0       </td><td>4       </td><td>5       </td><td>5       </td><td>4       </td><td>5       </td><td>23      </td></tr>\n",
       "\t<tr><td>33      </td><td>Proposer</td><td>63      </td><td> 5      </td><td>0       </td><td>1       </td><td>19      </td><td>1       </td><td>0       </td><td>4       </td><td>3       </td><td>1       </td><td>4       </td><td>5       </td><td>17      </td></tr>\n",
       "\t<tr><td>34      </td><td>Proposer</td><td>74      </td><td> 1      </td><td>1       </td><td>1       </td><td>30      </td><td>1       </td><td>0       </td><td>6       </td><td>6       </td><td>4       </td><td>5       </td><td>5       </td><td>26      </td></tr>\n",
       "\t<tr><td>35      </td><td>Proposer</td><td>85      </td><td> 2      </td><td>1       </td><td>0       </td><td>21      </td><td>1       </td><td>0       </td><td>3       </td><td>2       </td><td>3       </td><td>4       </td><td>5       </td><td>17      </td></tr>\n",
       "\t<tr><td>41      </td><td>Proposer</td><td>90      </td><td> 5      </td><td>1       </td><td>0       </td><td>22      </td><td>1       </td><td>0       </td><td>5       </td><td>5       </td><td>4       </td><td>4       </td><td>2       </td><td>20      </td></tr>\n",
       "\t<tr><td>44      </td><td>Proposer</td><td>84      </td><td> 1      </td><td>0       </td><td>1       </td><td>27      </td><td>1       </td><td>0       </td><td>6       </td><td>6       </td><td>2       </td><td>4       </td><td>2       </td><td>20      </td></tr>\n",
       "\t<tr><td>45      </td><td>Proposer</td><td>95      </td><td> 3      </td><td>1       </td><td>1       </td><td>23      </td><td>1       </td><td>0       </td><td>4       </td><td>2       </td><td>3       </td><td>3       </td><td>2       </td><td>14      </td></tr>\n",
       "\t<tr><td>51      </td><td>Proposer</td><td>61      </td><td> 8      </td><td>1       </td><td>0       </td><td>22      </td><td>1       </td><td>0       </td><td>5       </td><td>5       </td><td>4       </td><td>3       </td><td>2       </td><td>19      </td></tr>\n",
       "\t<tr><td>52      </td><td>Proposer</td><td>72      </td><td> 0      </td><td>0       </td><td>0       </td><td>29      </td><td>1       </td><td>0       </td><td>5       </td><td>6       </td><td>3       </td><td>4       </td><td>2       </td><td>20      </td></tr>\n",
       "\t<tr><td>53      </td><td>Proposer</td><td>83      </td><td> 0      </td><td>1       </td><td>0       </td><td>24      </td><td>1       </td><td>0       </td><td>4       </td><td>5       </td><td>3       </td><td>3       </td><td>2       </td><td>17      </td></tr>\n",
       "\t<tr><td>55      </td><td>Proposer</td><td>66      </td><td>10      </td><td>1       </td><td>1       </td><td>20      </td><td>1       </td><td>0       </td><td>6       </td><td>6       </td><td>5       </td><td>1       </td><td>2       </td><td>20      </td></tr>\n",
       "</tbody>\n",
       "</table>\n"
      ],
      "text/latex": [
       "\\begin{tabular}{r|lllllllllllllll}\n",
       " idprop & role & idresp & propoffer & accepted & female & age & buddhist & otherrelig & freq & private & presence & beliefs & carryon & totscore\\\\\n",
       "\\hline\n",
       "\t 11       & Proposer & 60       &  2       & 1        & 1        & 21       & 1        & 0        & 5        & 4        & 4        & 4        & 1        & 18      \\\\\n",
       "\t 12       & Proposer & 71       &  7       & 1        & 1        & 23       & 1        & 0        & 6        & 6        & 5        & 5        & 1        & 23      \\\\\n",
       "\t 13       & Proposer & 82       & 10       & 1        & 0        & 20       & 1        & 0        & 5        & 5        & 1        & 4        & 1        & 16      \\\\\n",
       "\t 14       & Proposer & 93       &  8       & 1        & 1        & 25       & 1        & 0        & 5        & 5        & 4        & 5        & 1        & 20      \\\\\n",
       "\t 15       & Proposer & 65       &  4       & 1        & 1        & 24       & 1        & 0        & 6        & 6        & 5        & 5        & 1        & 23      \\\\\n",
       "\t 16       & Proposer & 76       &  0       & 1        & 0        & 20       & 1        & 0        & 3        & 2        & 1        & 1        & 1        &  8      \\\\\n",
       "\t 21       & Proposer & 70       &  5       & 1        & 1        & 22       & 1        & 0        & 3        & 6        & 4        & 5        & 5        & 23      \\\\\n",
       "\t 22       & Proposer & 81       &  5       & 1        & 0        & 19       & 1        & 0        & 5        & 3        & 5        & 2        & 5        & 20      \\\\\n",
       "\t 23       & Proposer & 92       &  5       & 1        & 1        & 23       & 1        & 0        & 3        & 2        & 3        & 2        & 5        & 15      \\\\\n",
       "\t 24       & Proposer & 64       &  4       & 1        & 1        & 25       & 1        & 0        & 4        & 4        & 5        & 5        & 5        & 23      \\\\\n",
       "\t 25       & Proposer & 75       &  4       & 0        & 1        & 24       & 1        & 0        & 3        & 5        & 1        & 4        & 5        & 18      \\\\\n",
       "\t 26       & Proposer & 86       &  5       & 1        & 1        & 28       & 1        & 0        & 6        & 6        & 5        & 5        & 5        & 27      \\\\\n",
       "\t 31       & Proposer & 80       &  3       & 1        & 1        & 23       & 1        & 0        & 5        & 6        & 4        & 5        & 5        & 25      \\\\\n",
       "\t 32       & Proposer & 91       &  8       & 1        & 1        & 19       & 1        & 0        & 4        & 5        & 5        & 4        & 5        & 23      \\\\\n",
       "\t 33       & Proposer & 63       &  5       & 0        & 1        & 19       & 1        & 0        & 4        & 3        & 1        & 4        & 5        & 17      \\\\\n",
       "\t 34       & Proposer & 74       &  1       & 1        & 1        & 30       & 1        & 0        & 6        & 6        & 4        & 5        & 5        & 26      \\\\\n",
       "\t 35       & Proposer & 85       &  2       & 1        & 0        & 21       & 1        & 0        & 3        & 2        & 3        & 4        & 5        & 17      \\\\\n",
       "\t 41       & Proposer & 90       &  5       & 1        & 0        & 22       & 1        & 0        & 5        & 5        & 4        & 4        & 2        & 20      \\\\\n",
       "\t 44       & Proposer & 84       &  1       & 0        & 1        & 27       & 1        & 0        & 6        & 6        & 2        & 4        & 2        & 20      \\\\\n",
       "\t 45       & Proposer & 95       &  3       & 1        & 1        & 23       & 1        & 0        & 4        & 2        & 3        & 3        & 2        & 14      \\\\\n",
       "\t 51       & Proposer & 61       &  8       & 1        & 0        & 22       & 1        & 0        & 5        & 5        & 4        & 3        & 2        & 19      \\\\\n",
       "\t 52       & Proposer & 72       &  0       & 0        & 0        & 29       & 1        & 0        & 5        & 6        & 3        & 4        & 2        & 20      \\\\\n",
       "\t 53       & Proposer & 83       &  0       & 1        & 0        & 24       & 1        & 0        & 4        & 5        & 3        & 3        & 2        & 17      \\\\\n",
       "\t 55       & Proposer & 66       & 10       & 1        & 1        & 20       & 1        & 0        & 6        & 6        & 5        & 1        & 2        & 20      \\\\\n",
       "\\end{tabular}\n"
      ],
      "text/markdown": [
       "\n",
       "| idprop | role | idresp | propoffer | accepted | female | age | buddhist | otherrelig | freq | private | presence | beliefs | carryon | totscore |\n",
       "|---|---|---|---|---|---|---|---|---|---|---|---|---|---|---|\n",
       "| 11       | Proposer | 60       |  2       | 1        | 1        | 21       | 1        | 0        | 5        | 4        | 4        | 4        | 1        | 18       |\n",
       "| 12       | Proposer | 71       |  7       | 1        | 1        | 23       | 1        | 0        | 6        | 6        | 5        | 5        | 1        | 23       |\n",
       "| 13       | Proposer | 82       | 10       | 1        | 0        | 20       | 1        | 0        | 5        | 5        | 1        | 4        | 1        | 16       |\n",
       "| 14       | Proposer | 93       |  8       | 1        | 1        | 25       | 1        | 0        | 5        | 5        | 4        | 5        | 1        | 20       |\n",
       "| 15       | Proposer | 65       |  4       | 1        | 1        | 24       | 1        | 0        | 6        | 6        | 5        | 5        | 1        | 23       |\n",
       "| 16       | Proposer | 76       |  0       | 1        | 0        | 20       | 1        | 0        | 3        | 2        | 1        | 1        | 1        |  8       |\n",
       "| 21       | Proposer | 70       |  5       | 1        | 1        | 22       | 1        | 0        | 3        | 6        | 4        | 5        | 5        | 23       |\n",
       "| 22       | Proposer | 81       |  5       | 1        | 0        | 19       | 1        | 0        | 5        | 3        | 5        | 2        | 5        | 20       |\n",
       "| 23       | Proposer | 92       |  5       | 1        | 1        | 23       | 1        | 0        | 3        | 2        | 3        | 2        | 5        | 15       |\n",
       "| 24       | Proposer | 64       |  4       | 1        | 1        | 25       | 1        | 0        | 4        | 4        | 5        | 5        | 5        | 23       |\n",
       "| 25       | Proposer | 75       |  4       | 0        | 1        | 24       | 1        | 0        | 3        | 5        | 1        | 4        | 5        | 18       |\n",
       "| 26       | Proposer | 86       |  5       | 1        | 1        | 28       | 1        | 0        | 6        | 6        | 5        | 5        | 5        | 27       |\n",
       "| 31       | Proposer | 80       |  3       | 1        | 1        | 23       | 1        | 0        | 5        | 6        | 4        | 5        | 5        | 25       |\n",
       "| 32       | Proposer | 91       |  8       | 1        | 1        | 19       | 1        | 0        | 4        | 5        | 5        | 4        | 5        | 23       |\n",
       "| 33       | Proposer | 63       |  5       | 0        | 1        | 19       | 1        | 0        | 4        | 3        | 1        | 4        | 5        | 17       |\n",
       "| 34       | Proposer | 74       |  1       | 1        | 1        | 30       | 1        | 0        | 6        | 6        | 4        | 5        | 5        | 26       |\n",
       "| 35       | Proposer | 85       |  2       | 1        | 0        | 21       | 1        | 0        | 3        | 2        | 3        | 4        | 5        | 17       |\n",
       "| 41       | Proposer | 90       |  5       | 1        | 0        | 22       | 1        | 0        | 5        | 5        | 4        | 4        | 2        | 20       |\n",
       "| 44       | Proposer | 84       |  1       | 0        | 1        | 27       | 1        | 0        | 6        | 6        | 2        | 4        | 2        | 20       |\n",
       "| 45       | Proposer | 95       |  3       | 1        | 1        | 23       | 1        | 0        | 4        | 2        | 3        | 3        | 2        | 14       |\n",
       "| 51       | Proposer | 61       |  8       | 1        | 0        | 22       | 1        | 0        | 5        | 5        | 4        | 3        | 2        | 19       |\n",
       "| 52       | Proposer | 72       |  0       | 0        | 0        | 29       | 1        | 0        | 5        | 6        | 3        | 4        | 2        | 20       |\n",
       "| 53       | Proposer | 83       |  0       | 1        | 0        | 24       | 1        | 0        | 4        | 5        | 3        | 3        | 2        | 17       |\n",
       "| 55       | Proposer | 66       | 10       | 1        | 1        | 20       | 1        | 0        | 6        | 6        | 5        | 1        | 2        | 20       |\n",
       "\n"
      ],
      "text/plain": [
       "   idprop role     idresp propoffer accepted female age buddhist otherrelig\n",
       "1  11     Proposer 60      2        1        1      21  1        0         \n",
       "2  12     Proposer 71      7        1        1      23  1        0         \n",
       "3  13     Proposer 82     10        1        0      20  1        0         \n",
       "4  14     Proposer 93      8        1        1      25  1        0         \n",
       "5  15     Proposer 65      4        1        1      24  1        0         \n",
       "6  16     Proposer 76      0        1        0      20  1        0         \n",
       "7  21     Proposer 70      5        1        1      22  1        0         \n",
       "8  22     Proposer 81      5        1        0      19  1        0         \n",
       "9  23     Proposer 92      5        1        1      23  1        0         \n",
       "10 24     Proposer 64      4        1        1      25  1        0         \n",
       "11 25     Proposer 75      4        0        1      24  1        0         \n",
       "12 26     Proposer 86      5        1        1      28  1        0         \n",
       "13 31     Proposer 80      3        1        1      23  1        0         \n",
       "14 32     Proposer 91      8        1        1      19  1        0         \n",
       "15 33     Proposer 63      5        0        1      19  1        0         \n",
       "16 34     Proposer 74      1        1        1      30  1        0         \n",
       "17 35     Proposer 85      2        1        0      21  1        0         \n",
       "18 41     Proposer 90      5        1        0      22  1        0         \n",
       "19 44     Proposer 84      1        0        1      27  1        0         \n",
       "20 45     Proposer 95      3        1        1      23  1        0         \n",
       "21 51     Proposer 61      8        1        0      22  1        0         \n",
       "22 52     Proposer 72      0        0        0      29  1        0         \n",
       "23 53     Proposer 83      0        1        0      24  1        0         \n",
       "24 55     Proposer 66     10        1        1      20  1        0         \n",
       "   freq private presence beliefs carryon totscore\n",
       "1  5    4       4        4       1       18      \n",
       "2  6    6       5        5       1       23      \n",
       "3  5    5       1        4       1       16      \n",
       "4  5    5       4        5       1       20      \n",
       "5  6    6       5        5       1       23      \n",
       "6  3    2       1        1       1        8      \n",
       "7  3    6       4        5       5       23      \n",
       "8  5    3       5        2       5       20      \n",
       "9  3    2       3        2       5       15      \n",
       "10 4    4       5        5       5       23      \n",
       "11 3    5       1        4       5       18      \n",
       "12 6    6       5        5       5       27      \n",
       "13 5    6       4        5       5       25      \n",
       "14 4    5       5        4       5       23      \n",
       "15 4    3       1        4       5       17      \n",
       "16 6    6       4        5       5       26      \n",
       "17 3    2       3        4       5       17      \n",
       "18 5    5       4        4       2       20      \n",
       "19 6    6       2        4       2       20      \n",
       "20 4    2       3        3       2       14      \n",
       "21 5    5       4        3       2       19      \n",
       "22 5    6       3        4       2       20      \n",
       "23 4    5       3        3       2       17      \n",
       "24 6    6       5        1       2       20      "
      ]
     },
     "metadata": {},
     "output_type": "display_data"
    }
   ],
   "source": [
    "prosoc = read_excel(\"datasets/prosoc.xlsx\")\n",
    "prosoc"
   ]
  },
  {
   "cell_type": "code",
   "execution_count": 107,
   "metadata": {},
   "outputs": [
    {
     "ename": "ERROR",
     "evalue": "Error: `path` does not exist: 'datasets/crontestall.xlsx'\n",
     "output_type": "error",
     "traceback": [
      "Error: `path` does not exist: 'datasets/crontestall.xlsx'\nTraceback:\n",
      "1. read_excel(\"datasets/crontestall.xlsx\")",
      "2. check_file(path)",
      "3. stop(\"`path` does not exist: \", sQuote(path), call. = FALSE)"
     ]
    }
   ],
   "source": [
    "crontestall = read_excel(\"datasets/crontestall.xlsx\") \n",
    "crontestall"
   ]
  },
  {
   "cell_type": "markdown",
   "metadata": {},
   "source": [
    "# 2.0. Descriptive Statistics"
   ]
  },
  {
   "cell_type": "code",
   "execution_count": 56,
   "metadata": {},
   "outputs": [
    {
     "data": {
      "text/plain": [
       "     idprop          role               idresp        propoffer     \n",
       " Min.   :11.00   Length:24          Min.   :60.00   Min.   : 0.000  \n",
       " 1st Qu.:19.75   Class :character   1st Qu.:69.00   1st Qu.: 2.000  \n",
       " Median :28.50   Mode  :character   Median :78.00   Median : 4.500  \n",
       " Mean   :30.33                      Mean   :77.46   Mean   : 4.375  \n",
       " 3rd Qu.:41.75                      3rd Qu.:85.25   3rd Qu.: 5.500  \n",
       " Max.   :55.00                      Max.   :95.00   Max.   :10.000  \n",
       "    accepted          female            age           buddhist   otherrelig\n",
       " Min.   :0.0000   Min.   :0.0000   Min.   :19.00   Min.   :1   Min.   :0   \n",
       " 1st Qu.:1.0000   1st Qu.:0.0000   1st Qu.:20.75   1st Qu.:1   1st Qu.:0   \n",
       " Median :1.0000   Median :1.0000   Median :23.00   Median :1   Median :0   \n",
       " Mean   :0.8333   Mean   :0.6667   Mean   :23.04   Mean   :1   Mean   :0   \n",
       " 3rd Qu.:1.0000   3rd Qu.:1.0000   3rd Qu.:24.25   3rd Qu.:1   3rd Qu.:0   \n",
       " Max.   :1.0000   Max.   :1.0000   Max.   :30.00   Max.   :1   Max.   :0   \n",
       "      freq          private         presence      beliefs         carryon     \n",
       " Min.   :3.000   Min.   :2.000   Min.   :1.0   Min.   :1.000   Min.   :1.000  \n",
       " 1st Qu.:4.000   1st Qu.:3.750   1st Qu.:3.0   1st Qu.:3.000   1st Qu.:1.750  \n",
       " Median :5.000   Median :5.000   Median :4.0   Median :4.000   Median :2.000  \n",
       " Mean   :4.625   Mean   :4.625   Mean   :3.5   Mean   :3.792   Mean   :3.125  \n",
       " 3rd Qu.:5.250   3rd Qu.:6.000   3rd Qu.:5.0   3rd Qu.:5.000   3rd Qu.:5.000  \n",
       " Max.   :6.000   Max.   :6.000   Max.   :5.0   Max.   :5.000   Max.   :5.000  \n",
       "    totscore    \n",
       " Min.   : 8.00  \n",
       " 1st Qu.:17.00  \n",
       " Median :20.00  \n",
       " Mean   :19.67  \n",
       " 3rd Qu.:23.00  \n",
       " Max.   :27.00  "
      ]
     },
     "metadata": {},
     "output_type": "display_data"
    }
   ],
   "source": [
    "# descriptive statistics - prosoc\n",
    "summary(prosoc)"
   ]
  },
  {
   "cell_type": "code",
   "execution_count": 21,
   "metadata": {
    "scrolled": true
   },
   "outputs": [
    {
     "data": {
      "text/plain": [
       "      ora             nora            IR1             ir2             ir3     \n",
       " Min.   :1.000   Min.   :1.000   Min.   :1.000   Min.   :1.000   Min.   :1.0  \n",
       " 1st Qu.:3.750   1st Qu.:3.000   1st Qu.:2.000   1st Qu.:2.000   1st Qu.:2.0  \n",
       " Median :4.000   Median :5.000   Median :4.000   Median :4.000   Median :4.0  \n",
       " Mean   :4.167   Mean   :4.271   Mean   :3.417   Mean   :3.479   Mean   :3.5  \n",
       " 3rd Qu.:5.000   3rd Qu.:5.000   3rd Qu.:5.000   3rd Qu.:4.000   3rd Qu.:4.0  \n",
       " Max.   :6.000   Max.   :6.000   Max.   :5.000   Max.   :5.000   Max.   :5.0  "
      ]
     },
     "metadata": {},
     "output_type": "display_data"
    }
   ],
   "source": [
    "# descriptive statistics crontestall (DUREL)\n",
    "summary(crontestall)"
   ]
  },
  {
   "cell_type": "code",
   "execution_count": 35,
   "metadata": {},
   "outputs": [],
   "source": [
    "sd_ora = sd(crontestall$ora)\n",
    "sd_nora = sd(crontestall$nora)\n",
    "sd_ir1 = sd(crontestall$IR1)\n",
    "sd_ir2 = sd(crontestall$ir2)\n",
    "sd_ir3 = sd(crontestall$ir3)"
   ]
  },
  {
   "cell_type": "code",
   "execution_count": 41,
   "metadata": {},
   "outputs": [
    {
     "name": "stdout",
     "output_type": "stream",
     "text": [
      "Standard Deviation ORA: \n",
      "1.190983\n",
      "Standard Deviation NORA: \n",
      "1.580999\n",
      "Standard Deviation IR1: \n",
      "1.470755\n",
      "Standard Deviation IR2: \n",
      "1.304486\n",
      "Standard Deviation IR3: \n",
      "1.336875\n"
     ]
    }
   ],
   "source": [
    "cat(\"Standard Deviation ORA: \", sd_ora, sep=\"\\n\")\n",
    "cat(\"Standard Deviation NORA: \", sd_nora, sep=\"\\n\")\n",
    "cat(\"Standard Deviation IR1: \", sd_ir1, sep=\"\\n\")\n",
    "cat(\"Standard Deviation IR2: \", sd_ir2, sep=\"\\n\")\n",
    "cat(\"Standard Deviation IR3: \", sd_ir3, sep=\"\\n\")"
   ]
  },
  {
   "cell_type": "markdown",
   "metadata": {},
   "source": [
    "# 3.0. Calculating Cronbach Alpha-test for Likert questions (test internal reliability)"
   ]
  },
  {
   "cell_type": "code",
   "execution_count": 20,
   "metadata": {
    "scrolled": false
   },
   "outputs": [
    {
     "data": {
      "text/plain": [
       "\n",
       "Reliability analysis   \n",
       "Call: alpha(x = crontestall)\n",
       "\n",
       "  raw_alpha std.alpha G6(smc) average_r S/N   ase mean   sd median_r\n",
       "      0.68      0.69    0.72      0.31 2.2 0.071  3.8 0.92     0.24\n",
       "\n",
       " lower alpha upper     95% confidence boundaries\n",
       "0.55 0.68 0.82 \n",
       "\n",
       " Reliability if an item is dropped:\n",
       "     raw_alpha std.alpha G6(smc) average_r S/N alpha se var.r med.r\n",
       "ora       0.57      0.57    0.58      0.25 1.3    0.101 0.052  0.22\n",
       "nora      0.54      0.55    0.52      0.24 1.2    0.109 0.026  0.23\n",
       "IR1       0.71      0.71    0.72      0.38 2.5    0.068 0.060  0.33\n",
       "ir2       0.55      0.56    0.58      0.24 1.3    0.105 0.059  0.22\n",
       "ir3       0.75      0.75    0.75      0.43 3.1    0.060 0.038  0.40\n",
       "\n",
       " Item statistics \n",
       "      n raw.r std.r r.cor r.drop mean  sd\n",
       "ora  48  0.77  0.78  0.75   0.62  4.2 1.2\n",
       "nora 48  0.81  0.80  0.81   0.62  4.3 1.6\n",
       "IR1  48  0.55  0.54  0.33   0.27  3.4 1.5\n",
       "ir2  48  0.79  0.79  0.74   0.63  3.5 1.3\n",
       "ir3  48  0.43  0.45  0.21   0.15  3.5 1.3\n",
       "\n",
       "Non missing response frequency for each item\n",
       "        1    2    3    4    5    6 miss\n",
       "ora  0.04 0.02 0.19 0.35 0.27 0.12    0\n",
       "nora 0.08 0.10 0.10 0.08 0.42 0.21    0\n",
       "IR1  0.17 0.12 0.15 0.25 0.31 0.00    0\n",
       "ir2  0.10 0.17 0.10 0.40 0.23 0.00    0\n",
       "ir3  0.12 0.15 0.06 0.44 0.23 0.00    0"
      ]
     },
     "metadata": {},
     "output_type": "display_data"
    }
   ],
   "source": [
    "# calculating raw_alpha on crontestall\n",
    "alpha(crontestall)"
   ]
  },
  {
   "cell_type": "code",
   "execution_count": 60,
   "metadata": {},
   "outputs": [
    {
     "data": {
      "text/plain": [
       "\n",
       "Reliability analysis   \n",
       "Call: alpha(x = crontest)\n",
       "\n",
       "  raw_alpha std.alpha G6(smc) average_r S/N  ase mean  sd median_r\n",
       "      0.75      0.75    0.75      0.43 3.1 0.06  3.8 1.1      0.4\n",
       "\n",
       " lower alpha upper     95% confidence boundaries\n",
       "0.63 0.75 0.86 \n",
       "\n",
       " Reliability if an item is dropped:\n",
       "     raw_alpha std.alpha G6(smc) average_r S/N alpha se var.r med.r\n",
       "ora       0.66      0.67    0.62      0.40 2.0    0.087 0.044  0.34\n",
       "nora      0.61      0.62    0.53      0.35 1.6    0.099 0.010  0.34\n",
       "ir1       0.81      0.81    0.77      0.59 4.4    0.044 0.015  0.64\n",
       "ir2       0.64      0.66    0.63      0.39 1.9    0.091 0.066  0.25\n",
       "\n",
       " Item statistics \n",
       "      n raw.r std.r r.cor r.drop mean  sd\n",
       "ora  48  0.77  0.79  0.72   0.61  4.2 1.2\n",
       "nora 48  0.85  0.84  0.83   0.67  4.3 1.6\n",
       "ir1  48  0.61  0.60  0.36   0.32  3.4 1.5\n",
       "ir2  48  0.80  0.80  0.71   0.63  3.5 1.3\n",
       "\n",
       "Non missing response frequency for each item\n",
       "        1    2    3    4    5    6 miss\n",
       "ora  0.04 0.02 0.19 0.35 0.27 0.12    0\n",
       "nora 0.08 0.10 0.10 0.08 0.42 0.21    0\n",
       "ir1  0.17 0.12 0.15 0.25 0.31 0.00    0\n",
       "ir2  0.10 0.17 0.10 0.40 0.23 0.00    0"
      ]
     },
     "metadata": {},
     "output_type": "display_data"
    }
   ],
   "source": [
    "# calculating raw_alpha without ir3\n",
    "alpha(crontest) # crontest is crontestall with ir3 column removed"
   ]
  },
  {
   "cell_type": "markdown",
   "metadata": {},
   "source": [
    "# 4.0 Modeling"
   ]
  },
  {
   "cell_type": "code",
   "execution_count": 66,
   "metadata": {},
   "outputs": [],
   "source": [
    "## creating dummies for religion and gender\n",
    "female = as.numeric(prosoc$female==1)\n",
    "buddhist = as.numeric(prosoc$buddhist==1)\n",
    "otherrelig = as.numeric(prosoc$otherrelig==1)"
   ]
  },
  {
   "cell_type": "code",
   "execution_count": 67,
   "metadata": {},
   "outputs": [
    {
     "name": "stdout",
     "output_type": "stream",
     "text": [
      "\n",
      "Call:\n",
      "lm(formula = propoffer ~ female + age + totscore, data = prosoc)\n",
      "\n",
      "Residuals:\n",
      "    Min      1Q  Median      3Q     Max \n",
      "-3.3730 -1.3998 -0.3237  1.3248  5.2494 \n",
      "\n",
      "Coefficients:\n",
      "            Estimate Std. Error t value Pr(>|t|)   \n",
      "(Intercept)  12.5196     4.0546   3.088  0.00580 **\n",
      "female        0.6453     1.2226   0.528  0.60343   \n",
      "age          -0.6321     0.1911  -3.307  0.00352 **\n",
      "totscore      0.3046     0.1531   1.990  0.06047 . \n",
      "---\n",
      "Signif. codes:  0 '***' 0.001 '**' 0.01 '*' 0.05 '.' 0.1 ' ' 1\n",
      "\n",
      "Residual standard error: 2.542 on 20 degrees of freedom\n",
      "Multiple R-squared:  0.3777,\tAdjusted R-squared:  0.2844 \n",
      "F-statistic: 4.046 on 3 and 20 DF,  p-value: 0.0212\n",
      "\n"
     ]
    },
    {
     "data": {
      "text/html": [
       "<dl class=dl-horizontal>\n",
       "\t<dt>(Intercept)</dt>\n",
       "\t\t<dd>12.5195513914357</dd>\n",
       "\t<dt>female</dt>\n",
       "\t\t<dd>0.645317156097815</dd>\n",
       "\t<dt>age</dt>\n",
       "\t\t<dd>-0.632147741597612</dd>\n",
       "\t<dt>totscore</dt>\n",
       "\t\t<dd>0.304625833075121</dd>\n",
       "</dl>\n"
      ],
      "text/latex": [
       "\\begin{description*}\n",
       "\\item[(Intercept)] 12.5195513914357\n",
       "\\item[female] 0.645317156097815\n",
       "\\item[age] -0.632147741597612\n",
       "\\item[totscore] 0.304625833075121\n",
       "\\end{description*}\n"
      ],
      "text/markdown": [
       "(Intercept)\n",
       ":   12.5195513914357female\n",
       ":   0.645317156097815age\n",
       ":   -0.632147741597612totscore\n",
       ":   0.304625833075121\n",
       "\n"
      ],
      "text/plain": [
       "(Intercept)      female         age    totscore \n",
       " 12.5195514   0.6453172  -0.6321477   0.3046258 "
      ]
     },
     "metadata": {},
     "output_type": "display_data"
    }
   ],
   "source": [
    "# fitting regression line for model I:\n",
    "reg1 = lm(propoffer ~ female + age + totscore, data=prosoc)\n",
    "print(summary(reg1))\n",
    "coef(reg1)"
   ]
  },
  {
   "cell_type": "code",
   "execution_count": 68,
   "metadata": {},
   "outputs": [
    {
     "name": "stdout",
     "output_type": "stream",
     "text": [
      "\n",
      "Call:\n",
      "lm(formula = propoffer ~ female + age + freq + private + presence + \n",
      "    beliefs, data = prosoc)\n",
      "\n",
      "Residuals:\n",
      "    Min      1Q  Median      3Q     Max \n",
      "-4.0160 -1.1840 -0.2343  1.1599  4.3773 \n",
      "\n",
      "Coefficients:\n",
      "            Estimate Std. Error t value Pr(>|t|)   \n",
      "(Intercept) 13.27958    4.23729   3.134  0.00605 **\n",
      "female       1.01089    1.22688   0.824  0.42138   \n",
      "age         -0.68267    0.20914  -3.264  0.00457 **\n",
      "freq         0.49437    0.70077   0.705  0.49008   \n",
      "private      0.63636    0.54160   1.175  0.25620   \n",
      "presence     0.23380    0.44263   0.528  0.60419   \n",
      "beliefs      0.02727    0.55803   0.049  0.96160   \n",
      "---\n",
      "Signif. codes:  0 '***' 0.001 '**' 0.01 '*' 0.05 '.' 0.1 ' ' 1\n",
      "\n",
      "Residual standard error: 2.568 on 17 degrees of freedom\n",
      "Multiple R-squared:  0.4602,\tAdjusted R-squared:  0.2697 \n",
      "F-statistic: 2.416 on 6 and 17 DF,  p-value: 0.0713\n",
      "\n"
     ]
    },
    {
     "data": {
      "text/html": [
       "<dl class=dl-horizontal>\n",
       "\t<dt>(Intercept)</dt>\n",
       "\t\t<dd>13.2795836812707</dd>\n",
       "\t<dt>female</dt>\n",
       "\t\t<dd>1.01089317000965</dd>\n",
       "\t<dt>age</dt>\n",
       "\t\t<dd>-0.682669157681258</dd>\n",
       "\t<dt>freq</dt>\n",
       "\t\t<dd>0.494370278514342</dd>\n",
       "\t<dt>private</dt>\n",
       "\t\t<dd>0.636363741196345</dd>\n",
       "\t<dt>presence</dt>\n",
       "\t\t<dd>0.23379556483562</dd>\n",
       "\t<dt>beliefs</dt>\n",
       "\t\t<dd>0.027268587835228</dd>\n",
       "</dl>\n"
      ],
      "text/latex": [
       "\\begin{description*}\n",
       "\\item[(Intercept)] 13.2795836812707\n",
       "\\item[female] 1.01089317000965\n",
       "\\item[age] -0.682669157681258\n",
       "\\item[freq] 0.494370278514342\n",
       "\\item[private] 0.636363741196345\n",
       "\\item[presence] 0.23379556483562\n",
       "\\item[beliefs] 0.027268587835228\n",
       "\\end{description*}\n"
      ],
      "text/markdown": [
       "(Intercept)\n",
       ":   13.2795836812707female\n",
       ":   1.01089317000965age\n",
       ":   -0.682669157681258freq\n",
       ":   0.494370278514342private\n",
       ":   0.636363741196345presence\n",
       ":   0.23379556483562beliefs\n",
       ":   0.027268587835228\n",
       "\n"
      ],
      "text/plain": [
       "(Intercept)      female         age        freq     private    presence \n",
       "13.27958368  1.01089317 -0.68266916  0.49437028  0.63636374  0.23379556 \n",
       "    beliefs \n",
       " 0.02726859 "
      ]
     },
     "metadata": {},
     "output_type": "display_data"
    }
   ],
   "source": [
    "# fitting regression line for model II:\n",
    "\n",
    "reg2 = lm(propoffer ~ female + age + freq + private + presence + \n",
    "            beliefs\n",
    "          , data=prosoc)\n",
    "\n",
    "print(summary(reg2))\n",
    "coef(reg2)"
   ]
  },
  {
   "cell_type": "markdown",
   "metadata": {},
   "source": [
    "# 5.0 Wilcoxon Signed Rank Test\n",
    "Since the sample size is small (N= 24), we performed a non-parametric test between religious and non-religious participants. From the prosoc dataset, we derived the relig dataset (religious participants) and the nonrelig dataset (non-religious participants) to perform the test."
   ]
  },
  {
   "cell_type": "code",
   "execution_count": 75,
   "metadata": {},
   "outputs": [
    {
     "data": {
      "text/html": [
       "<table>\n",
       "<thead><tr><th scope=col>idprop</th><th scope=col>role</th><th scope=col>idresp</th><th scope=col>propoffer</th><th scope=col>earnings</th><th scope=col>respearn</th><th scope=col>accepted</th><th scope=col>female</th><th scope=col>age</th><th scope=col>buddhist</th><th scope=col>otherrelig</th><th scope=col>freq</th><th scope=col>private</th><th scope=col>presence</th><th scope=col>beliefs</th><th scope=col>carryon</th><th scope=col>totscore</th></tr></thead>\n",
       "<tbody>\n",
       "\t<tr><td>11      </td><td>Proposer</td><td>60      </td><td> 2      </td><td>8       </td><td> 2      </td><td>1       </td><td>1       </td><td>21      </td><td>1       </td><td>0       </td><td>5       </td><td>4       </td><td>4       </td><td>4       </td><td>1       </td><td>18      </td></tr>\n",
       "\t<tr><td>25      </td><td>Proposer</td><td>75      </td><td> 4      </td><td>0       </td><td> 0      </td><td>0       </td><td>1       </td><td>24      </td><td>1       </td><td>0       </td><td>3       </td><td>5       </td><td>1       </td><td>4       </td><td>5       </td><td>18      </td></tr>\n",
       "\t<tr><td>51      </td><td>Proposer</td><td>61      </td><td> 8      </td><td>2       </td><td> 8      </td><td>1       </td><td>0       </td><td>22      </td><td>1       </td><td>0       </td><td>5       </td><td>5       </td><td>4       </td><td>3       </td><td>2       </td><td>19      </td></tr>\n",
       "\t<tr><td>14      </td><td>Proposer</td><td>93      </td><td> 8      </td><td>2       </td><td> 8      </td><td>1       </td><td>1       </td><td>25      </td><td>1       </td><td>0       </td><td>5       </td><td>5       </td><td>4       </td><td>5       </td><td>1       </td><td>20      </td></tr>\n",
       "\t<tr><td>22      </td><td>Proposer</td><td>81      </td><td> 5      </td><td>5       </td><td> 5      </td><td>1       </td><td>0       </td><td>19      </td><td>1       </td><td>0       </td><td>5       </td><td>3       </td><td>5       </td><td>2       </td><td>5       </td><td>20      </td></tr>\n",
       "\t<tr><td>41      </td><td>Proposer</td><td>90      </td><td> 5      </td><td>5       </td><td> 5      </td><td>1       </td><td>0       </td><td>22      </td><td>1       </td><td>0       </td><td>5       </td><td>5       </td><td>4       </td><td>4       </td><td>2       </td><td>20      </td></tr>\n",
       "\t<tr><td>44      </td><td>Proposer</td><td>84      </td><td> 1      </td><td>0       </td><td> 0      </td><td>0       </td><td>1       </td><td>27      </td><td>1       </td><td>0       </td><td>6       </td><td>6       </td><td>2       </td><td>4       </td><td>2       </td><td>20      </td></tr>\n",
       "\t<tr><td>52      </td><td>Proposer</td><td>72      </td><td> 0      </td><td>0       </td><td> 0      </td><td>0       </td><td>0       </td><td>29      </td><td>1       </td><td>0       </td><td>5       </td><td>6       </td><td>3       </td><td>4       </td><td>2       </td><td>20      </td></tr>\n",
       "\t<tr><td>55      </td><td>Proposer</td><td>66      </td><td>10      </td><td>0       </td><td>10      </td><td>1       </td><td>1       </td><td>20      </td><td>1       </td><td>0       </td><td>6       </td><td>6       </td><td>5       </td><td>1       </td><td>2       </td><td>20      </td></tr>\n",
       "\t<tr><td>12      </td><td>Proposer</td><td>71      </td><td> 7      </td><td>3       </td><td> 7      </td><td>1       </td><td>1       </td><td>23      </td><td>1       </td><td>0       </td><td>6       </td><td>6       </td><td>5       </td><td>5       </td><td>1       </td><td>23      </td></tr>\n",
       "\t<tr><td>15      </td><td>Proposer</td><td>65      </td><td> 4      </td><td>6       </td><td> 4      </td><td>1       </td><td>1       </td><td>24      </td><td>1       </td><td>0       </td><td>6       </td><td>6       </td><td>5       </td><td>5       </td><td>1       </td><td>23      </td></tr>\n",
       "\t<tr><td>21      </td><td>Proposer</td><td>70      </td><td> 5      </td><td>5       </td><td> 5      </td><td>1       </td><td>1       </td><td>22      </td><td>1       </td><td>0       </td><td>3       </td><td>6       </td><td>4       </td><td>5       </td><td>5       </td><td>23      </td></tr>\n",
       "\t<tr><td>24      </td><td>Proposer</td><td>64      </td><td> 4      </td><td>6       </td><td> 4      </td><td>1       </td><td>1       </td><td>25      </td><td>1       </td><td>0       </td><td>4       </td><td>4       </td><td>5       </td><td>5       </td><td>5       </td><td>23      </td></tr>\n",
       "\t<tr><td>32      </td><td>Proposer</td><td>91      </td><td> 8      </td><td>2       </td><td> 8      </td><td>1       </td><td>1       </td><td>19      </td><td>1       </td><td>0       </td><td>4       </td><td>5       </td><td>5       </td><td>4       </td><td>5       </td><td>23      </td></tr>\n",
       "\t<tr><td>31      </td><td>Proposer</td><td>80      </td><td> 3      </td><td>7       </td><td> 3      </td><td>1       </td><td>1       </td><td>23      </td><td>1       </td><td>0       </td><td>5       </td><td>6       </td><td>4       </td><td>5       </td><td>5       </td><td>25      </td></tr>\n",
       "\t<tr><td>34      </td><td>Proposer</td><td>74      </td><td> 1      </td><td>9       </td><td> 1      </td><td>1       </td><td>1       </td><td>30      </td><td>1       </td><td>0       </td><td>6       </td><td>6       </td><td>4       </td><td>5       </td><td>5       </td><td>26      </td></tr>\n",
       "\t<tr><td>26      </td><td>Proposer</td><td>86      </td><td> 5      </td><td>5       </td><td> 5      </td><td>1       </td><td>1       </td><td>28      </td><td>1       </td><td>0       </td><td>6       </td><td>6       </td><td>5       </td><td>5       </td><td>5       </td><td>27      </td></tr>\n",
       "</tbody>\n",
       "</table>\n"
      ],
      "text/latex": [
       "\\begin{tabular}{r|lllllllllllllllll}\n",
       " idprop & role & idresp & propoffer & earnings & respearn & accepted & female & age & buddhist & otherrelig & freq & private & presence & beliefs & carryon & totscore\\\\\n",
       "\\hline\n",
       "\t 11       & Proposer & 60       &  2       & 8        &  2       & 1        & 1        & 21       & 1        & 0        & 5        & 4        & 4        & 4        & 1        & 18      \\\\\n",
       "\t 25       & Proposer & 75       &  4       & 0        &  0       & 0        & 1        & 24       & 1        & 0        & 3        & 5        & 1        & 4        & 5        & 18      \\\\\n",
       "\t 51       & Proposer & 61       &  8       & 2        &  8       & 1        & 0        & 22       & 1        & 0        & 5        & 5        & 4        & 3        & 2        & 19      \\\\\n",
       "\t 14       & Proposer & 93       &  8       & 2        &  8       & 1        & 1        & 25       & 1        & 0        & 5        & 5        & 4        & 5        & 1        & 20      \\\\\n",
       "\t 22       & Proposer & 81       &  5       & 5        &  5       & 1        & 0        & 19       & 1        & 0        & 5        & 3        & 5        & 2        & 5        & 20      \\\\\n",
       "\t 41       & Proposer & 90       &  5       & 5        &  5       & 1        & 0        & 22       & 1        & 0        & 5        & 5        & 4        & 4        & 2        & 20      \\\\\n",
       "\t 44       & Proposer & 84       &  1       & 0        &  0       & 0        & 1        & 27       & 1        & 0        & 6        & 6        & 2        & 4        & 2        & 20      \\\\\n",
       "\t 52       & Proposer & 72       &  0       & 0        &  0       & 0        & 0        & 29       & 1        & 0        & 5        & 6        & 3        & 4        & 2        & 20      \\\\\n",
       "\t 55       & Proposer & 66       & 10       & 0        & 10       & 1        & 1        & 20       & 1        & 0        & 6        & 6        & 5        & 1        & 2        & 20      \\\\\n",
       "\t 12       & Proposer & 71       &  7       & 3        &  7       & 1        & 1        & 23       & 1        & 0        & 6        & 6        & 5        & 5        & 1        & 23      \\\\\n",
       "\t 15       & Proposer & 65       &  4       & 6        &  4       & 1        & 1        & 24       & 1        & 0        & 6        & 6        & 5        & 5        & 1        & 23      \\\\\n",
       "\t 21       & Proposer & 70       &  5       & 5        &  5       & 1        & 1        & 22       & 1        & 0        & 3        & 6        & 4        & 5        & 5        & 23      \\\\\n",
       "\t 24       & Proposer & 64       &  4       & 6        &  4       & 1        & 1        & 25       & 1        & 0        & 4        & 4        & 5        & 5        & 5        & 23      \\\\\n",
       "\t 32       & Proposer & 91       &  8       & 2        &  8       & 1        & 1        & 19       & 1        & 0        & 4        & 5        & 5        & 4        & 5        & 23      \\\\\n",
       "\t 31       & Proposer & 80       &  3       & 7        &  3       & 1        & 1        & 23       & 1        & 0        & 5        & 6        & 4        & 5        & 5        & 25      \\\\\n",
       "\t 34       & Proposer & 74       &  1       & 9        &  1       & 1        & 1        & 30       & 1        & 0        & 6        & 6        & 4        & 5        & 5        & 26      \\\\\n",
       "\t 26       & Proposer & 86       &  5       & 5        &  5       & 1        & 1        & 28       & 1        & 0        & 6        & 6        & 5        & 5        & 5        & 27      \\\\\n",
       "\\end{tabular}\n"
      ],
      "text/markdown": [
       "\n",
       "| idprop | role | idresp | propoffer | earnings | respearn | accepted | female | age | buddhist | otherrelig | freq | private | presence | beliefs | carryon | totscore |\n",
       "|---|---|---|---|---|---|---|---|---|---|---|---|---|---|---|---|---|\n",
       "| 11       | Proposer | 60       |  2       | 8        |  2       | 1        | 1        | 21       | 1        | 0        | 5        | 4        | 4        | 4        | 1        | 18       |\n",
       "| 25       | Proposer | 75       |  4       | 0        |  0       | 0        | 1        | 24       | 1        | 0        | 3        | 5        | 1        | 4        | 5        | 18       |\n",
       "| 51       | Proposer | 61       |  8       | 2        |  8       | 1        | 0        | 22       | 1        | 0        | 5        | 5        | 4        | 3        | 2        | 19       |\n",
       "| 14       | Proposer | 93       |  8       | 2        |  8       | 1        | 1        | 25       | 1        | 0        | 5        | 5        | 4        | 5        | 1        | 20       |\n",
       "| 22       | Proposer | 81       |  5       | 5        |  5       | 1        | 0        | 19       | 1        | 0        | 5        | 3        | 5        | 2        | 5        | 20       |\n",
       "| 41       | Proposer | 90       |  5       | 5        |  5       | 1        | 0        | 22       | 1        | 0        | 5        | 5        | 4        | 4        | 2        | 20       |\n",
       "| 44       | Proposer | 84       |  1       | 0        |  0       | 0        | 1        | 27       | 1        | 0        | 6        | 6        | 2        | 4        | 2        | 20       |\n",
       "| 52       | Proposer | 72       |  0       | 0        |  0       | 0        | 0        | 29       | 1        | 0        | 5        | 6        | 3        | 4        | 2        | 20       |\n",
       "| 55       | Proposer | 66       | 10       | 0        | 10       | 1        | 1        | 20       | 1        | 0        | 6        | 6        | 5        | 1        | 2        | 20       |\n",
       "| 12       | Proposer | 71       |  7       | 3        |  7       | 1        | 1        | 23       | 1        | 0        | 6        | 6        | 5        | 5        | 1        | 23       |\n",
       "| 15       | Proposer | 65       |  4       | 6        |  4       | 1        | 1        | 24       | 1        | 0        | 6        | 6        | 5        | 5        | 1        | 23       |\n",
       "| 21       | Proposer | 70       |  5       | 5        |  5       | 1        | 1        | 22       | 1        | 0        | 3        | 6        | 4        | 5        | 5        | 23       |\n",
       "| 24       | Proposer | 64       |  4       | 6        |  4       | 1        | 1        | 25       | 1        | 0        | 4        | 4        | 5        | 5        | 5        | 23       |\n",
       "| 32       | Proposer | 91       |  8       | 2        |  8       | 1        | 1        | 19       | 1        | 0        | 4        | 5        | 5        | 4        | 5        | 23       |\n",
       "| 31       | Proposer | 80       |  3       | 7        |  3       | 1        | 1        | 23       | 1        | 0        | 5        | 6        | 4        | 5        | 5        | 25       |\n",
       "| 34       | Proposer | 74       |  1       | 9        |  1       | 1        | 1        | 30       | 1        | 0        | 6        | 6        | 4        | 5        | 5        | 26       |\n",
       "| 26       | Proposer | 86       |  5       | 5        |  5       | 1        | 1        | 28       | 1        | 0        | 6        | 6        | 5        | 5        | 5        | 27       |\n",
       "\n"
      ],
      "text/plain": [
       "   idprop role     idresp propoffer earnings respearn accepted female age\n",
       "1  11     Proposer 60      2        8         2       1        1      21 \n",
       "2  25     Proposer 75      4        0         0       0        1      24 \n",
       "3  51     Proposer 61      8        2         8       1        0      22 \n",
       "4  14     Proposer 93      8        2         8       1        1      25 \n",
       "5  22     Proposer 81      5        5         5       1        0      19 \n",
       "6  41     Proposer 90      5        5         5       1        0      22 \n",
       "7  44     Proposer 84      1        0         0       0        1      27 \n",
       "8  52     Proposer 72      0        0         0       0        0      29 \n",
       "9  55     Proposer 66     10        0        10       1        1      20 \n",
       "10 12     Proposer 71      7        3         7       1        1      23 \n",
       "11 15     Proposer 65      4        6         4       1        1      24 \n",
       "12 21     Proposer 70      5        5         5       1        1      22 \n",
       "13 24     Proposer 64      4        6         4       1        1      25 \n",
       "14 32     Proposer 91      8        2         8       1        1      19 \n",
       "15 31     Proposer 80      3        7         3       1        1      23 \n",
       "16 34     Proposer 74      1        9         1       1        1      30 \n",
       "17 26     Proposer 86      5        5         5       1        1      28 \n",
       "   buddhist otherrelig freq private presence beliefs carryon totscore\n",
       "1  1        0          5    4       4        4       1       18      \n",
       "2  1        0          3    5       1        4       5       18      \n",
       "3  1        0          5    5       4        3       2       19      \n",
       "4  1        0          5    5       4        5       1       20      \n",
       "5  1        0          5    3       5        2       5       20      \n",
       "6  1        0          5    5       4        4       2       20      \n",
       "7  1        0          6    6       2        4       2       20      \n",
       "8  1        0          5    6       3        4       2       20      \n",
       "9  1        0          6    6       5        1       2       20      \n",
       "10 1        0          6    6       5        5       1       23      \n",
       "11 1        0          6    6       5        5       1       23      \n",
       "12 1        0          3    6       4        5       5       23      \n",
       "13 1        0          4    4       5        5       5       23      \n",
       "14 1        0          4    5       5        4       5       23      \n",
       "15 1        0          5    6       4        5       5       25      \n",
       "16 1        0          6    6       4        5       5       26      \n",
       "17 1        0          6    6       5        5       5       27      "
      ]
     },
     "metadata": {},
     "output_type": "display_data"
    }
   ],
   "source": [
    "relig = read_excel(\"datasets/relig.xlsx\")\n",
    "nonrelig = read_excel(\"datasets/nonrelig.xlsx\")\n",
    "relig"
   ]
  },
  {
   "cell_type": "code",
   "execution_count": 74,
   "metadata": {},
   "outputs": [
    {
     "data": {
      "text/plain": [
       "\n",
       "\tExact Wilcoxon rank sum test\n",
       "\n",
       "data:  relig$propoffer and nonrelig$propoffer\n",
       "W = 73.5, p-value = 0.3896\n",
       "alternative hypothesis: true mu is not equal to 0\n"
      ]
     },
     "metadata": {},
     "output_type": "display_data"
    }
   ],
   "source": [
    "wilcox.exact(relig$propoffer,nonrelig$propoffer)"
   ]
  },
  {
   "cell_type": "code",
   "execution_count": 76,
   "metadata": {},
   "outputs": [
    {
     "data": {
      "image/png": "[encoded data removed]",
      "text/plain": [
       "Plot with title \"\""
      ]
     },
     "metadata": {},
     "output_type": "display_data"
    }
   ],
   "source": [
    "boxplot(relig$propoffer, nonrelig$propoffer, main = \"\", ylab = \"Offers (in thousand JPY)\", \n",
    "        ylim = c(0,10), names = c(\"Religious\",\"Non-religious\"))"
   ]
  },
  {
   "cell_type": "code",
   "execution_count": 106,
   "metadata": {
    "scrolled": false
   },
   "outputs": [
    {
     "data": {
      "text/plain": [
       "     idprop       role               idresp        propoffer     \n",
       " Min.   :11   Length:17          Min.   :60.00   Min.   : 0.000  \n",
       " 1st Qu.:21   Class :character   1st Qu.:66.00   1st Qu.: 3.000  \n",
       " Median :26   Mode  :character   Median :74.00   Median : 5.000  \n",
       " Mean   :30                      Mean   :75.47   Mean   : 4.706  \n",
       " 3rd Qu.:41                      3rd Qu.:84.00   3rd Qu.: 7.000  \n",
       " Max.   :55                      Max.   :93.00   Max.   :10.000  \n",
       "    earnings        respearn         accepted          female      \n",
       " Min.   :0.000   Min.   : 0.000   Min.   :0.0000   Min.   :0.0000  \n",
       " 1st Qu.:2.000   1st Qu.: 2.000   1st Qu.:1.0000   1st Qu.:1.0000  \n",
       " Median :5.000   Median : 5.000   Median :1.0000   Median :1.0000  \n",
       " Mean   :3.824   Mean   : 4.412   Mean   :0.8235   Mean   :0.7647  \n",
       " 3rd Qu.:6.000   3rd Qu.: 7.000   3rd Qu.:1.0000   3rd Qu.:1.0000  \n",
       " Max.   :9.000   Max.   :10.000   Max.   :1.0000   Max.   :1.0000  \n",
       "      age           buddhist   otherrelig      freq      private     \n",
       " Min.   :19.00   Min.   :1   Min.   :0    Min.   :3   Min.   :3.000  \n",
       " 1st Qu.:22.00   1st Qu.:1   1st Qu.:0    1st Qu.:5   1st Qu.:5.000  \n",
       " Median :23.00   Median :1   Median :0    Median :5   Median :6.000  \n",
       " Mean   :23.71   Mean   :1   Mean   :0    Mean   :5   Mean   :5.294  \n",
       " 3rd Qu.:25.00   3rd Qu.:1   3rd Qu.:0    3rd Qu.:6   3rd Qu.:6.000  \n",
       " Max.   :30.00   Max.   :1   Max.   :0    Max.   :6   Max.   :6.000  \n",
       "    presence        beliefs         carryon         totscore    \n",
       " Min.   :1.000   Min.   :1.000   Min.   :1.000   Min.   :18.00  \n",
       " 1st Qu.:4.000   1st Qu.:4.000   1st Qu.:2.000   1st Qu.:20.00  \n",
       " Median :4.000   Median :4.000   Median :2.000   Median :20.00  \n",
       " Mean   :4.059   Mean   :4.118   Mean   :3.176   Mean   :21.65  \n",
       " 3rd Qu.:5.000   3rd Qu.:5.000   3rd Qu.:5.000   3rd Qu.:23.00  \n",
       " Max.   :5.000   Max.   :5.000   Max.   :5.000   Max.   :27.00  "
      ]
     },
     "metadata": {},
     "output_type": "display_data"
    },
    {
     "name": "stdout",
     "output_type": "stream",
     "text": [
      "Standard Deviation Religious Proposer Offers: \n",
      "2.823223\n",
      "Standard Deviation Religious Earnings of Proposers: \n",
      "2.941838\n",
      "Standard Deviation Religious Earnings of Responders: \n",
      "3.123676\n",
      "Rejection Rate - Religious Treatment\n",
      "0.1764706\n",
      "Fair & Charity Offer Rate (5-10 thousand JPY)\n",
      "0.5294118\n"
     ]
    },
    {
     "data": {
      "text/plain": [
       "     idprop          role               idresp        propoffer     \n",
       " Min.   :13.00   Length:7           Min.   :63.00   Min.   : 0.000  \n",
       " 1st Qu.:19.50   Class :character   1st Qu.:79.00   1st Qu.: 1.000  \n",
       " Median :33.00   Mode  :character   Median :83.00   Median : 3.000  \n",
       " Mean   :31.14                      Mean   :82.29   Mean   : 3.571  \n",
       " 3rd Qu.:40.00                      3rd Qu.:88.50   3rd Qu.: 5.000  \n",
       " Max.   :53.00                      Max.   :95.00   Max.   :10.000  \n",
       "    earnings         respearn         accepted          female      \n",
       " Min.   : 0.000   Min.   : 0.000   Min.   :0.0000   Min.   :0.0000  \n",
       " 1st Qu.: 2.500   1st Qu.: 0.000   1st Qu.:1.0000   1st Qu.:0.0000  \n",
       " Median : 7.000   Median : 2.000   Median :1.0000   Median :0.0000  \n",
       " Mean   : 5.714   Mean   : 2.857   Mean   :0.8571   Mean   :0.4286  \n",
       " 3rd Qu.: 9.000   3rd Qu.: 4.000   3rd Qu.:1.0000   3rd Qu.:1.0000  \n",
       " Max.   :10.000   Max.   :10.000   Max.   :1.0000   Max.   :1.0000  \n",
       "      age           buddhist   otherrelig      freq          private \n",
       " Min.   :19.00   Min.   :1   Min.   :0    Min.   :3.000   Min.   :2  \n",
       " 1st Qu.:20.00   1st Qu.:1   1st Qu.:0    1st Qu.:3.000   1st Qu.:2  \n",
       " Median :21.00   Median :1   Median :0    Median :4.000   Median :2  \n",
       " Mean   :21.43   Mean   :1   Mean   :0    Mean   :3.714   Mean   :3  \n",
       " 3rd Qu.:23.00   3rd Qu.:1   3rd Qu.:0    3rd Qu.:4.000   3rd Qu.:4  \n",
       " Max.   :24.00   Max.   :1   Max.   :0    Max.   :5.000   Max.   :5  \n",
       "    presence        beliefs       carryon       totscore    \n",
       " Min.   :1.000   Min.   :1.0   Min.   :1.0   Min.   : 8.00  \n",
       " 1st Qu.:1.000   1st Qu.:2.5   1st Qu.:1.5   1st Qu.:14.50  \n",
       " Median :3.000   Median :3.0   Median :2.0   Median :16.00  \n",
       " Mean   :2.143   Mean   :3.0   Mean   :3.0   Mean   :14.86  \n",
       " 3rd Qu.:3.000   3rd Qu.:4.0   3rd Qu.:5.0   3rd Qu.:17.00  \n",
       " Max.   :3.000   Max.   :4.0   Max.   :5.0   Max.   :17.00  "
      ]
     },
     "metadata": {},
     "output_type": "display_data"
    },
    {
     "name": "stdout",
     "output_type": "stream",
     "text": [
      "Standard Deviation Non-Religious Proposer Offers: \n",
      "3.505098\n",
      "Standard Deviation Non-Religious Earnings of Proposers: \n",
      "4.270608\n",
      "Standard Deviation Non-Religious Earnings of Responders: \n",
      "3.670993\n",
      "Rejection Rate - Non-Religious Treatment\n",
      "0.1428571\n",
      "Fair & Charity Offer Rate (5-10 thousand JPY)\n",
      "0.4285714\n"
     ]
    }
   ],
   "source": [
    "summary(relig)\n",
    "sd_mean_relig = sd(relig$propoffer)\n",
    "sd_mean_earnings__prop_relig = sd(relig$earnings)\n",
    "sd_mean_earnings__resp_relig = sd(relig$respearn)\n",
    "rejectrate_relig = sum(relig$accepted == 0)/length(relig$accepted)\n",
    "fairrate_relig = sum(relig$propoffer >=5)/length(relig$propoffer)\n",
    "\n",
    "cat(\"Standard Deviation Religious Proposer Offers: \", sd_mean_relig, sep=\"\\n\")\n",
    "cat(\"Standard Deviation Religious Earnings of Proposers: \", sd_mean_earnings__prop_relig, sep=\"\\n\")\n",
    "cat(\"Standard Deviation Religious Earnings of Responders: \", sd_mean_earnings__resp_relig, sep=\"\\n\")\n",
    "cat(\"Rejection Rate - Religious Treatment\", rejectrate_relig, sep=\"\\n\")\n",
    "cat(\"Fair & Charity Offer Rate (5-10 thousand JPY)\", fairrate_relig, sep=\"\\n\")\n",
    "\n",
    "summary(nonrelig)\n",
    "sd_mean_nonrelig = sd(nonrelig$propoffer)\n",
    "sd_mean_earnings__prop_nonrelig = sd(nonrelig$earnings)\n",
    "sd_mean_earnings__resp_nonrelig = sd(nonrelig$respearn)\n",
    "rejectrate_nonrelig = sum(nonrelig$accepted == 0)/length(nonrelig$accepted)\n",
    "fairrate_nonrelig = sum(nonrelig$propoffer >=5)/length(nonrelig$propoffer)\n",
    "cat(\"Standard Deviation Non-Religious Proposer Offers: \", sd_mean_nonrelig, sep=\"\\n\")\n",
    "cat(\"Standard Deviation Non-Religious Earnings of Proposers: \", sd_mean_earnings__prop_nonrelig, sep=\"\\n\")\n",
    "cat(\"Standard Deviation Non-Religious Earnings of Responders: \", sd_mean_earnings__resp_nonrelig, sep=\"\\n\")\n",
    "cat(\"Rejection Rate - Non-Religious Treatment\", rejectrate_nonrelig, sep=\"\\n\")\n",
    "cat(\"Fair & Charity Offer Rate (5-10 thousand JPY)\", fairrate_nonrelig, sep=\"\\n\")"
   ]
  }
 ],
 "metadata": {
  "kernelspec": {
   "display_name": "R",
   "language": "R",
   "name": "ir"
  },
  "language_info": {
   "codemirror_mode": "r",
   "file_extension": ".r",
   "mimetype": "text/x-r-source",
   "name": "R",
   "pygments_lexer": "r",
   "version": "3.6.1"
  }
 },
 "nbformat": 4,
 "nbformat_minor": 4
}
